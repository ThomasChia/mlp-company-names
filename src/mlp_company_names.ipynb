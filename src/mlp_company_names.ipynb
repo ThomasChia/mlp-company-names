{
 "cells": [
  {
   "cell_type": "code",
   "execution_count": 1,
   "metadata": {},
   "outputs": [],
   "source": [
    "import torch\n",
    "import torch.nn.functional as F\n",
    "import pandas as pd\n",
    "import re\n",
    "import matplotlib.pyplot as plt\n",
    "\n",
    "%matplotlib inline"
   ]
  },
  {
   "cell_type": "code",
   "execution_count": 2,
   "metadata": {},
   "outputs": [],
   "source": [
    "# Get list of names from data\n",
    "data = pd.read_csv('../data/companies_sorted.csv')\n",
    "names = data['name'].tolist()"
   ]
  },
  {
   "cell_type": "code",
   "execution_count": 3,
   "metadata": {},
   "outputs": [],
   "source": [
    "# Cut data to first million names to reduce training time - not looking for the most accurate anyway.\n",
    "names = names[:1000000]"
   ]
  },
  {
   "cell_type": "code",
   "execution_count": 4,
   "metadata": {},
   "outputs": [
    {
     "data": {
      "text/plain": [
       "1000000"
      ]
     },
     "execution_count": 4,
     "metadata": {},
     "output_type": "execute_result"
    }
   ],
   "source": [
    "len(names)"
   ]
  },
  {
   "cell_type": "code",
   "execution_count": 5,
   "metadata": {},
   "outputs": [],
   "source": [
    "# Build the vocabulary of characters and index mapping - to and from integers\n",
    "# Involves making sure all the names are strings (as some are floats) and removing any names with non-alphanumeric characters\n",
    "# (as some of these companies are from other countries and have non-English characters in their names).\n",
    "# Maybe we should limit to US and UK companies only as the names are likely to be more similar and contain English words - extension.\n",
    "names = [str(name) for name in names]\n",
    "pattern = re.compile(r'^[a-zA-Z\\d]+$')\n",
    "filtered_names = [name for name in names if pattern.match(name)]\n",
    "chars = sorted(list(set(''.join(filtered_names))))"
   ]
  },
  {
   "cell_type": "code",
   "execution_count": 6,
   "metadata": {},
   "outputs": [
    {
     "data": {
      "text/plain": [
       "36"
      ]
     },
     "execution_count": 6,
     "metadata": {},
     "output_type": "execute_result"
    }
   ],
   "source": [
    "len(chars)"
   ]
  },
  {
   "cell_type": "code",
   "execution_count": 7,
   "metadata": {},
   "outputs": [],
   "source": [
    "stoi = {char: i+1 for i, char in enumerate(chars)}\n",
    "stoi['.'] = 0\n",
    "itos = {i: char for char, i in stoi.items()}"
   ]
  },
  {
   "cell_type": "code",
   "execution_count": 8,
   "metadata": {},
   "outputs": [],
   "source": [
    "assert len(stoi) == len(chars) + 1, \"Error: Vocabulary size does not match character set size\"\n",
    "assert len(stoi) == len(itos), \"Error: Indexes to characters and characters to indexes do not match\""
   ]
  },
  {
   "cell_type": "code",
   "execution_count": 9,
   "metadata": {},
   "outputs": [],
   "source": [
    "# Create x and y datasets from list of company names.\n",
    "# I want two lists of lists, one for x and one for y\n",
    "# x contain the first x letters of each name, each letter will be its own element of a list\n",
    "# y contains the next letter\n",
    "block_size = 3\n",
    "X, Y = [], []\n",
    "for name in filtered_names:\n",
    "    # print(name)\n",
    "    context = [0] * block_size\n",
    "    for char in name + '.':\n",
    "        ix = stoi[char]\n",
    "        X.append(context)\n",
    "        Y.append(ix)\n",
    "        # print(''.join([itos[i] for i in context]), '-->', char)\n",
    "        context = context[1:] + [ix]\n",
    "\n",
    "X = torch.tensor(X)\n",
    "Y = torch.tensor(Y)\n"
   ]
  },
  {
   "cell_type": "code",
   "execution_count": 10,
   "metadata": {},
   "outputs": [
    {
     "data": {
      "text/plain": [
       "torch.Size([1116580, 3, 10])"
      ]
     },
     "execution_count": 10,
     "metadata": {},
     "output_type": "execute_result"
    }
   ],
   "source": [
    "# Create the embeddings for the characters.\n",
    "# The embeddings will be a feature vector of length 10 for each character.\n",
    "# The table of embeddings will be a matrix of size (vocab_size, embedding_size).\n",
    "\n",
    "embedding_size = 10\n",
    "vocab_size = len(stoi)\n",
    "\n",
    "# Createa randn tensor of size (vocab_size, embedding_size) as the embeddings lookup table.\n",
    "C = torch.randn(vocab_size, embedding_size)\n",
    "# Apply these embeddings to the input data by using pytorch indexing.\n",
    "embeddings = C[X]\n",
    "embeddings.shape"
   ]
  },
  {
   "cell_type": "code",
   "execution_count": 11,
   "metadata": {},
   "outputs": [],
   "source": [
    "# Creating the first hidden layer.\n",
    "# The input of this layer will be each of the characters in the context, input as their feature vectors (embeddings),\n",
    "# the block_size (3) * embedding_size (10) = 30.\n",
    "# The bias will be a vector of size 50, as the hidden layer has 50 outputs.\n",
    "# In the paper, the hidden layer either has 0, 50, or 100 outputs.\n",
    "# To get the activations of the hidden layer, we matrix multiply the inputs by the weights and add the bias, and \n",
    "# then apply the tanh activation function.\n",
    "\n",
    "hidden_size = 50\n",
    "\n",
    "W1 = torch.randn(block_size * embedding_size, hidden_size)\n",
    "b1 = torch.randn(hidden_size)\n",
    "\n",
    "h = torch.tanh(embeddings.view(-1, block_size * embedding_size) @ W1 + b1)"
   ]
  },
  {
   "cell_type": "code",
   "execution_count": 12,
   "metadata": {},
   "outputs": [
    {
     "data": {
      "text/plain": [
       "torch.Size([1116580, 50])"
      ]
     },
     "execution_count": 12,
     "metadata": {},
     "output_type": "execute_result"
    }
   ],
   "source": [
    "h.shape"
   ]
  },
  {
   "cell_type": "code",
   "execution_count": 13,
   "metadata": {},
   "outputs": [],
   "source": [
    "# Create the output layer, which will take an input size of the output from the hidden layer (50)\n",
    "# and output a vector of size vocab_size (37).\n",
    "# With these numbers, we then need to normalise them, so we exponentiate them and divide by the sum of the exponentiated values.\n",
    "# This gives us the probabilities of each character being the next character in the sequence.\n",
    "\n",
    "W2 = torch.randn(hidden_size, vocab_size)\n",
    "b2 = torch.randn(vocab_size)\n",
    "\n",
    "logits = h @ W2 + b2\n",
    "counts = logits.exp()\n",
    "prob = counts / counts.sum(1, keepdims=True)"
   ]
  },
  {
   "cell_type": "code",
   "execution_count": 14,
   "metadata": {},
   "outputs": [
    {
     "data": {
      "text/plain": [
       "tensor(15.0957)"
      ]
     },
     "execution_count": 14,
     "metadata": {},
     "output_type": "execute_result"
    }
   ],
   "source": [
    "# Calculate the loss of the model.\n",
    "# The loss is the negative log likelihood of the correct character.\n",
    "# We need to find the next character (Y), and look at the probability the model gives of the actual next character being\n",
    "# the predicted next character by the model.\n",
    "\n",
    "loss = -prob[torch.arange(len(Y)), Y].log().mean()\n",
    "loss"
   ]
  },
  {
   "cell_type": "markdown",
   "metadata": {},
   "source": [
    "## Refactored"
   ]
  },
  {
   "cell_type": "code",
   "execution_count": 15,
   "metadata": {},
   "outputs": [
    {
     "data": {
      "text/plain": [
       "(torch.Size([1116580, 3]), torch.Size([1116580]))"
      ]
     },
     "execution_count": 15,
     "metadata": {},
     "output_type": "execute_result"
    }
   ],
   "source": [
    "X.shape, Y.shape"
   ]
  },
  {
   "cell_type": "code",
   "execution_count": 16,
   "metadata": {},
   "outputs": [],
   "source": [
    "g = torch.Generator().manual_seed(42)\n",
    "C = torch.randn((vocab_size, embedding_size), generator=g, requires_grad=True)\n",
    "W1 = torch.randn((block_size * embedding_size, hidden_size), generator=g, requires_grad=True)\n",
    "b1 = torch.randn(hidden_size, generator=g, requires_grad=True)\n",
    "W2 = torch.randn((hidden_size, vocab_size), generator=g, requires_grad=True)\n",
    "b2 = torch.randn(vocab_size, generator=g, requires_grad=True)\n",
    "parameters = [C, W1, b1, W2, b2]"
   ]
  },
  {
   "cell_type": "code",
   "execution_count": 17,
   "metadata": {},
   "outputs": [
    {
     "data": {
      "text/plain": [
       "3807"
      ]
     },
     "execution_count": 17,
     "metadata": {},
     "output_type": "execute_result"
    }
   ],
   "source": [
    "sum(p.nelement() for p in parameters)"
   ]
  },
  {
   "cell_type": "markdown",
   "metadata": {},
   "source": [
    "## Training Loop"
   ]
  },
  {
   "cell_type": "code",
   "execution_count": 18,
   "metadata": {},
   "outputs": [
    {
     "name": "stdout",
     "output_type": "stream",
     "text": [
      "0/100000 --> 14.354634284973145\n",
      "10000/100000 --> 2.825610399246216\n",
      "20000/100000 --> 2.5554866790771484\n",
      "30000/100000 --> 2.765424966812134\n",
      "40000/100000 --> 2.8255910873413086\n",
      "50000/100000 --> 2.4587152004241943\n",
      "60000/100000 --> 3.024714231491089\n",
      "70000/100000 --> 2.570897340774536\n",
      "80000/100000 --> 2.698364496231079\n",
      "90000/100000 --> 2.6044254302978516\n"
     ]
    }
   ],
   "source": [
    "lossi = []\n",
    "stepi = []\n",
    "\n",
    "training_steps = 100000\n",
    "\n",
    "# Forward pass\n",
    "for i in range(training_steps):\n",
    "    stepi.append(i)\n",
    "\n",
    "    # Mini batch\n",
    "    ix = torch.randint(0, X.shape[0], (32,))\n",
    "\n",
    "    # Forward pass\n",
    "    embeddings = C[X[ix]]\n",
    "    h = torch.tanh(embeddings.view(-1, block_size * embedding_size) @ W1 + b1)\n",
    "    logits = h @ W2 + b2\n",
    "    loss = F.cross_entropy(logits, Y[ix])\n",
    "    lossi.append(loss.item())\n",
    "\n",
    "    if i % 10000 == 0:\n",
    "        print(f'{i}/{training_steps} --> {loss.item()}')\n",
    "\n",
    "    # Backward pass\n",
    "    for p in parameters:\n",
    "        p.grad = None\n",
    "    loss.backward()\n",
    "\n",
    "    # Update parameters\n",
    "    for p in parameters:\n",
    "        p.data += -0.1 * p.grad"
   ]
  },
  {
   "cell_type": "code",
   "execution_count": 19,
   "metadata": {},
   "outputs": [
    {
     "data": {
      "text/plain": [
       "tensor(2.3727, grad_fn=<NllLossBackward0>)"
      ]
     },
     "execution_count": 19,
     "metadata": {},
     "output_type": "execute_result"
    }
   ],
   "source": [
    "loss"
   ]
  },
  {
   "cell_type": "markdown",
   "metadata": {},
   "source": [
    "## Refactored"
   ]
  },
  {
   "cell_type": "code",
   "execution_count": 20,
   "metadata": {},
   "outputs": [
    {
     "name": "stdout",
     "output_type": "stream",
     "text": [
      "torch.Size([893291, 3]) torch.Size([893291])\n",
      "torch.Size([111649, 3]) torch.Size([111649])\n",
      "torch.Size([111640, 3]) torch.Size([111640])\n"
     ]
    }
   ],
   "source": [
    "def get_names(names, block_size=3):\n",
    "    X, Y = [], []\n",
    "    for name in names:\n",
    "        context = [0] * block_size\n",
    "        for char in name + '.':\n",
    "            ix = stoi[char]\n",
    "            X.append(context)\n",
    "            Y.append(ix)\n",
    "            context = context[1:] + [ix]\n",
    "\n",
    "    X = torch.tensor(X)\n",
    "    Y = torch.tensor(Y)\n",
    "    print(X.shape, Y.shape)\n",
    "    return X, Y\n",
    "\n",
    "import random\n",
    "random.seed(42)\n",
    "random.shuffle(filtered_names)\n",
    "n1 = int(len(filtered_names) * 0.8)\n",
    "n2 = int(len(filtered_names) * 0.9)\n",
    "\n",
    "Xtr, Ytr = get_names(filtered_names[:n1])\n",
    "Xdev, Ydev = get_names(filtered_names[n1:n2])\n",
    "Xte, Yte = get_names(filtered_names[n2:])"
   ]
  },
  {
   "cell_type": "code",
   "execution_count": 21,
   "metadata": {},
   "outputs": [],
   "source": [
    "embedding_size = 10\n",
    "vocab_size = len(stoi)\n",
    "hidden_size = 100"
   ]
  },
  {
   "cell_type": "code",
   "execution_count": 22,
   "metadata": {},
   "outputs": [
    {
     "data": {
      "text/plain": [
       "7207"
      ]
     },
     "execution_count": 22,
     "metadata": {},
     "output_type": "execute_result"
    }
   ],
   "source": [
    "g = torch.Generator().manual_seed(42)\n",
    "C = torch.randn((vocab_size, embedding_size), generator=g)\n",
    "W1 = torch.randn((block_size * embedding_size, hidden_size), generator=g)\n",
    "b1 = torch.randn(hidden_size, generator=g)\n",
    "W2 = torch.randn((hidden_size, vocab_size), generator=g) * 0.01\n",
    "b2 = torch.randn(vocab_size, generator=g) * 0\n",
    "parameters = [C, W1, b1, W2, b2]\n",
    "\n",
    "sum(p.nelement() for p in parameters)"
   ]
  },
  {
   "cell_type": "code",
   "execution_count": 23,
   "metadata": {},
   "outputs": [],
   "source": [
    "for p in parameters:\n",
    "    p.requires_grad= True"
   ]
  },
  {
   "cell_type": "code",
   "execution_count": 24,
   "metadata": {},
   "outputs": [
    {
     "name": "stdout",
     "output_type": "stream",
     "text": [
      "0/200000 --> 3.6374733448028564\n",
      "10000/200000 --> 2.569020986557007\n",
      "20000/200000 --> 2.2896862030029297\n",
      "30000/200000 --> 2.376497268676758\n",
      "40000/200000 --> 3.0814387798309326\n",
      "50000/200000 --> 2.586749315261841\n",
      "60000/200000 --> 2.406029224395752\n",
      "70000/200000 --> 2.8085811138153076\n",
      "80000/200000 --> 2.670215368270874\n",
      "90000/200000 --> 2.706423759460449\n",
      "100000/200000 --> 2.5788636207580566\n",
      "110000/200000 --> 2.4807052612304688\n",
      "120000/200000 --> 2.1088316440582275\n",
      "130000/200000 --> 2.4689979553222656\n",
      "140000/200000 --> 2.5768625736236572\n",
      "150000/200000 --> 2.7530150413513184\n",
      "160000/200000 --> 2.451753616333008\n",
      "170000/200000 --> 2.334465503692627\n",
      "180000/200000 --> 2.272862195968628\n",
      "190000/200000 --> 2.2476892471313477\n"
     ]
    }
   ],
   "source": [
    "lossi = []\n",
    "stepi = []\n",
    "\n",
    "training_steps = 200000\n",
    "\n",
    "# Forward pass\n",
    "for i in range(training_steps):\n",
    "\n",
    "    # Mini batch\n",
    "    ix = torch.randint(0, Xtr.shape[0], (32,))\n",
    "\n",
    "    # Forward pass\n",
    "    embeddings = C[Xtr[ix]]\n",
    "    h = torch.tanh(embeddings.view(-1, block_size * embedding_size) @ W1 + b1)\n",
    "    logits = h @ W2 + b2\n",
    "    loss = F.cross_entropy(logits, Ytr[ix])\n",
    "\n",
    "    if i % 10000 == 0:\n",
    "        print(f'{i}/{training_steps} --> {loss.item()}')\n",
    "\n",
    "    # Backward pass\n",
    "    for p in parameters:\n",
    "        p.grad = None\n",
    "    loss.backward()\n",
    "\n",
    "    # Update parameters\n",
    "    lr = 0.1 if i < 100000 else 0.01\n",
    "    for p in parameters:\n",
    "        p.data += -lr * p.grad\n",
    "\n",
    "    # Track stats\n",
    "    stepi.append(i)\n",
    "    lossi.append(loss.item())"
   ]
  },
  {
   "cell_type": "code",
   "execution_count": 25,
   "metadata": {},
   "outputs": [
    {
     "data": {
      "text/plain": [
       "[<matplotlib.lines.Line2D at 0x3093b74f0>]"
      ]
     },
     "execution_count": 25,
     "metadata": {},
     "output_type": "execute_result"
    },
    {
     "data": {
      "image/png": "[encoded data removed]",
      "text/plain": [
       "<Figure size 640x480 with 1 Axes>"
      ]
     },
     "metadata": {},
     "output_type": "display_data"
    }
   ],
   "source": [
    "plt.plot(stepi, lossi)"
   ]
  },
  {
   "cell_type": "code",
   "execution_count": 26,
   "metadata": {},
   "outputs": [
    {
     "name": "stdout",
     "output_type": "stream",
     "text": [
      "2.4923901557922363\n",
      "2.4968950748443604\n"
     ]
    }
   ],
   "source": [
    "@torch.no_grad()\n",
    "def calc_loss(x, y):\n",
    "    embeddings = C[x]\n",
    "    h = torch.tanh(embeddings.view(-1, block_size * embedding_size) @ W1 + b1)\n",
    "    logits = h @ W2 + b2\n",
    "    loss = F.cross_entropy(logits, y)\n",
    "    print(loss.item())\n",
    "\n",
    "calc_loss(Xtr, Ytr)\n",
    "calc_loss(Xdev, Ydev)"
   ]
  },
  {
   "cell_type": "markdown",
   "metadata": {},
   "source": [
    "embeddings=10 <br>\n",
    "hidden_size=50 <br>\n",
    "training=? <br>\n",
    "train = 2.5987 <br>\n",
    "dev = 2.5998 <br>\n",
    "<br>\n",
    "embeddings=10 <br>\n",
    "hidden_size=100 <br>\n",
    "training=200,000 <br>\n",
    "train = 2.5544 <br>\n",
    "dev = 2.5546 <br>\n",
    "<br>\n",
    "Squashing down the output weights <br>\n",
    "embeddings=10 <br>\n",
    "hidden_size=100 <br>\n",
    "training=200,000 <br>\n",
    "train = 2.4937 <br>\n",
    "dev = 2.4998 <br>\n",
    "<br>\n",
    "Add in direct connection between embeddings and output layer <br>\n",
    "embeddings=10 <br>\n",
    "hidden_size=100 (+30 for embeddings)<br>\n",
    "training=200,000 <br>\n",
    "train = 2.4858 <br>\n",
    "dev = 2.4893 <br>\n",
    "<br>\n",
    "Add in direct connection between embeddings and output layer <br>\n",
    "embeddings=10 <br>\n",
    "hidden_size=100 (+30 for embeddings)<br>\n",
    "training=300,000 <br>\n",
    "train = 2.4722 <br>\n",
    "dev = 2.4787 <br>"
   ]
  },
  {
   "cell_type": "markdown",
   "metadata": {},
   "source": [
    "## Sampling from the Model"
   ]
  },
  {
   "cell_type": "code",
   "execution_count": 27,
   "metadata": {},
   "outputs": [
    {
     "name": "stdout",
     "output_type": "stream",
     "text": [
      "hyrosimp.\n",
      "sir.\n",
      "dis.\n",
      "brigia.\n",
      "fline.\n",
      "devica.\n",
      "stilansberevist.\n",
      "clm.\n",
      "crigel.\n",
      "infaq.\n",
      "lesenofestrek.\n",
      "kndoision.\n",
      "mindymberr.\n",
      "hetegranoct.\n",
      "hometrrylihmapioke.\n",
      "nevance.\n",
      "aquperianssbavemidon.\n",
      "i.\n",
      "ga2a.\n",
      "neormacio.\n"
     ]
    }
   ],
   "source": [
    "g_sample = torch.Generator().manual_seed(420)\n",
    "\n",
    "for _ in range(20):\n",
    "    out = []\n",
    "    context = [0] * block_size\n",
    "    while True:\n",
    "        embeddings = C[torch.tensor([context])]\n",
    "        h = torch.tanh(embeddings.view(-1, block_size * embedding_size) @ W1 + b1)\n",
    "        logits = h @ W2 + b2\n",
    "        probs = F.softmax(logits, dim=1)\n",
    "        ix = torch.multinomial(probs[0], 1, generator=g_sample).item()\n",
    "        context = context[1:] + [ix]\n",
    "        out.append(ix)\n",
    "        if ix == 0:\n",
    "            break\n",
    "    \n",
    "    print(''.join([itos[i] for i in out]))"
   ]
  },
  {
   "cell_type": "markdown",
   "metadata": {},
   "source": [
    "## Direct Connection between Input and Output"
   ]
  },
  {
   "cell_type": "code",
   "execution_count": 28,
   "metadata": {},
   "outputs": [],
   "source": [
    "g = torch.Generator().manual_seed(42)\n",
    "C = torch.randn((vocab_size, embedding_size), generator=g)\n",
    "W1 = torch.randn((block_size * embedding_size, hidden_size), generator=g)\n",
    "b1 = torch.randn((hidden_size), generator=g)\n",
    "W2 = torch.randn((hidden_size + block_size * embedding_size, vocab_size), generator=g) * 0.01\n",
    "b2 = torch.randn((vocab_size), generator=g) * 0\n",
    "\n",
    "parameters = [C, W1, b1, W2, b2]\n",
    "for p in parameters:\n",
    "    p.requires_grad = True"
   ]
  },
  {
   "cell_type": "code",
   "execution_count": 29,
   "metadata": {},
   "outputs": [
    {
     "data": {
      "text/plain": [
       "8317"
      ]
     },
     "execution_count": 29,
     "metadata": {},
     "output_type": "execute_result"
    }
   ],
   "source": [
    "sum(p.nelement() for p in parameters)"
   ]
  },
  {
   "cell_type": "code",
   "execution_count": 30,
   "metadata": {},
   "outputs": [
    {
     "name": "stdout",
     "output_type": "stream",
     "text": [
      "0/300000 --> 3.6651499271392822\n",
      "10000/300000 --> 2.7665839195251465\n",
      "20000/300000 --> 2.6561546325683594\n",
      "30000/300000 --> 2.8049159049987793\n",
      "40000/300000 --> 2.5437724590301514\n",
      "50000/300000 --> 2.3817715644836426\n",
      "60000/300000 --> 2.627906322479248\n",
      "70000/300000 --> 2.6886346340179443\n",
      "80000/300000 --> 2.3847267627716064\n",
      "90000/300000 --> 2.5476043224334717\n",
      "100000/300000 --> 2.474571704864502\n",
      "110000/300000 --> 2.551469564437866\n",
      "120000/300000 --> 2.498542070388794\n",
      "130000/300000 --> 2.459550380706787\n",
      "140000/300000 --> 2.348637104034424\n",
      "150000/300000 --> 2.4519827365875244\n",
      "160000/300000 --> 2.306771993637085\n",
      "170000/300000 --> 2.370269536972046\n",
      "180000/300000 --> 2.476262331008911\n",
      "190000/300000 --> 2.626415252685547\n",
      "200000/300000 --> 2.7846217155456543\n",
      "210000/300000 --> 2.1786723136901855\n",
      "220000/300000 --> 2.4667959213256836\n",
      "230000/300000 --> 2.3595457077026367\n",
      "240000/300000 --> 2.6639316082000732\n",
      "250000/300000 --> 2.459690809249878\n",
      "260000/300000 --> 2.5044806003570557\n",
      "270000/300000 --> 2.766547679901123\n",
      "280000/300000 --> 2.691492795944214\n",
      "290000/300000 --> 2.326143980026245\n"
     ]
    }
   ],
   "source": [
    "lossi = []\n",
    "stepi = []\n",
    "\n",
    "training_steps = 300000\n",
    "\n",
    "for i in range(training_steps):\n",
    "\n",
    "    # Mini batch\n",
    "    ix = torch.randint(0, Xtr.shape[0], (32,))\n",
    "\n",
    "    # Forward pass\n",
    "    embeddings = C[Xtr[ix]]\n",
    "    h_temp = torch.tanh(embeddings.view(-1, block_size * embedding_size) @ W1 + b1)\n",
    "    h = torch.cat((h_temp, embeddings.view(-1, block_size * embedding_size)), dim=1)\n",
    "    logits = h @ W2 + b2\n",
    "    loss = F.cross_entropy(logits, Ytr[ix])\n",
    "\n",
    "    if i % 10000 == 0:\n",
    "        print(f'{i}/{training_steps} --> {loss.item()}')\n",
    "\n",
    "    # Backward pass\n",
    "    for p in parameters:\n",
    "        p.grad = None\n",
    "    loss.backward()\n",
    "\n",
    "    # Update parameters\n",
    "    lr = 0.1 if i < 150000 else 0.01\n",
    "    for p in parameters:\n",
    "        p.data += -lr * p.grad\n",
    "\n",
    "    # Track stats\n",
    "    lossi.append(loss.item())\n",
    "    stepi.append(i)"
   ]
  },
  {
   "cell_type": "code",
   "execution_count": 34,
   "metadata": {},
   "outputs": [
    {
     "data": {
      "text/plain": [
       "[<matplotlib.lines.Line2D at 0x30a1a37c0>]"
      ]
     },
     "execution_count": 34,
     "metadata": {},
     "output_type": "execute_result"
    },
    {
     "data": {
      "image/png": "[encoded data removed]",
      "text/plain": [
       "<Figure size 640x480 with 1 Axes>"
      ]
     },
     "metadata": {},
     "output_type": "display_data"
    }
   ],
   "source": [
    "plt.plot(stepi, lossi)"
   ]
  },
  {
   "cell_type": "code",
   "execution_count": 31,
   "metadata": {},
   "outputs": [
    {
     "name": "stdout",
     "output_type": "stream",
     "text": [
      "2.4722280502319336\n",
      "2.4787826538085938\n"
     ]
    }
   ],
   "source": [
    "@torch.no_grad()\n",
    "def calc_loss(x, y):\n",
    "    embeddings = C[x]\n",
    "    h_temp = torch.tanh(embeddings.view(-1, block_size * embedding_size) @ W1 + b1)\n",
    "    h = torch.cat((h_temp, embeddings.view(-1, block_size * embedding_size)), dim=1)\n",
    "    logits = h @ W2 + b2\n",
    "    loss = F.cross_entropy(logits, y)\n",
    "    print(loss.item())\n",
    "\n",
    "calc_loss(Xtr, Ytr)\n",
    "calc_loss(Xdev, Ydev)"
   ]
  },
  {
   "cell_type": "code",
   "execution_count": 32,
   "metadata": {},
   "outputs": [
    {
     "name": "stdout",
     "output_type": "stream",
     "text": [
      "hyrosemrish.\n",
      "sims.\n",
      "brigia.\n",
      "flintech.\n",
      "mco.\n",
      "starawsb.\n",
      "auvist.\n",
      "clm.\n",
      "cradel.\n",
      "vipaq.\n",
      "lenetoffertek.\n",
      "knpoinworkm.\n",
      "edymartreheelarkale.\n",
      "feon.\n",
      "greylismario.\n",
      "wenengoch.\n",
      "aquamoweassbarsmartele.\n",
      "ga2deatiemacizen.\n",
      "beon.\n",
      "jprushodm.\n"
     ]
    }
   ],
   "source": [
    "g_sample = torch.Generator().manual_seed(420)\n",
    "\n",
    "for _ in range(20):\n",
    "    out = []\n",
    "    context = [0] * block_size\n",
    "    while True:\n",
    "        embeddings = C[torch.tensor([context])]\n",
    "        h_temp = torch.tanh(embeddings.view(-1, block_size * embedding_size) @ W1 + b1)\n",
    "        h = torch.cat((h_temp, embeddings.view(-1, embedding_size * block_size)), dim=1)\n",
    "        logits = h @ W2 + b2\n",
    "        probs = F.softmax(logits, dim=1)\n",
    "        ix = torch.multinomial(probs[0], 1, generator=g_sample).item()\n",
    "        context = context[1:] + [ix]\n",
    "        out.append(ix)\n",
    "        if ix == 0:\n",
    "            break\n",
    "    \n",
    "    print(''.join([itos[i] for i in out]))"
   ]
  },
  {
   "cell_type": "code",
   "execution_count": null,
   "metadata": {},
   "outputs": [],
   "source": []
  }
 ],
 "metadata": {
  "kernelspec": {
   "display_name": "venv",
   "language": "python",
   "name": "python3"
  },
  "language_info": {
   "codemirror_mode": {
    "name": "ipython",
    "version": 3
   },
   "file_extension": ".py",
   "mimetype": "text/x-python",
   "name": "python",
   "nbconvert_exporter": "python",
   "pygments_lexer": "ipython3",
   "version": "3.10.8"
  },
  "orig_nbformat": 4
 },
 "nbformat": 4,
 "nbformat_minor": 2
}
